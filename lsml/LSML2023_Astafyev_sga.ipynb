{
 "cells": [
  {
   "cell_type": "code",
   "execution_count": 2,
   "metadata": {},
   "outputs": [],
   "source": [
    "# iastafev\n",
    "# LSML 2023"
   ]
  },
  {
   "cell_type": "markdown",
   "metadata": {},
   "source": [
    "# User routes on the site\n",
    "## Description\n",
    "**Clickstream** is a sequence of user actions on a website. It allows you to understand how users interact with the site. In this task, you need to find the most frequent custom routes.\n",
    "\n",
    "## Input data\n",
    "Input data is а table with clickstream data in file `hdfs:/data/clickstream.csv`.\n",
    "\n",
    "### Table structure\n",
    "* `user_id (int)` - Unique user identifier.\n",
    "* `session_id (int)` - Unique identifier for the user session. The user's session lasts until the identifier changes.\n",
    "* `event_type (string)` - Event type from the list:\n",
    "    * **page** - visit to the page\n",
    "    * **event** - any action on the page\n",
    "    * <b>&lt;custom&gt;</b> - string with any other type\n",
    "* `event_type (string)` - Page on the site.\n",
    "* `timestamp (int)` - Unix-timestamp of action.\n",
    "\n",
    "### Browser errors\n",
    "Errors can sometimes occur in the user's browser - after such an error appears, we can no longer trust the data of this session and all the following lines after the error or at the same time with it are considered corrupted and **should not be counted** in statistics.\n",
    "\n",
    "When an error occurs on the page, a random string containing the word **error** will be written to the `event_type` field.\n",
    "\n",
    "### Sample of user session\n",
    "<pre>\n",
    "+-------+----------+------------+----------+----------+\n",
    "|user_id|session_id|  event_type|event_page| timestamp|\n",
    "+-------+----------+------------+----------+----------+\n",
    "|    562|       507|        page|      main|1620494781|\n",
    "|    562|       507|       event|      main|1620494788|\n",
    "|    562|       507|       event|      main|1620494798|\n",
    "|    562|       507|        page|    family|1620494820|\n",
    "|    562|       507|       event|    family|1620494828|\n",
    "|    562|       507|        page|      main|1620494848|\n",
    "|    562|       507|wNaxLlerrorU|      main|1620494865|\n",
    "|    562|       507|       event|      main|1620494873|\n",
    "|    562|       507|        page|      news|1620494875|\n",
    "|    562|       507|        page|   tariffs|1620494876|\n",
    "|    562|       507|       event|   tariffs|1620494884|\n",
    "|    562|       514|        page|      main|1620728918|\n",
    "|    562|       514|       event|      main|1620729174|\n",
    "|    562|       514|        page|   archive|1620729674|\n",
    "|    562|       514|        page|     bonus|1620729797|\n",
    "|    562|       514|        page|   tariffs|1620731090|\n",
    "|    562|       514|       event|   tariffs|1620731187|\n",
    "+-------+----------+------------+----------+----------+\n",
    "</pre>\n",
    "\n",
    "#### Correct user routes for a given user:\n",
    "* **Session 507**: main-family-main\n",
    "* **Session 514**: main-archive-bonus-tariffs\n",
    "\n",
    "Route elements are ordered by the time they appear in the clickstream, from earliest to latest.\n",
    "\n",
    "The route must be accounted for completely before the end of the session or an error in the session.\n",
    "\n",
    "## Task\n",
    "You need to use the Spark SQL, Spark RDD and Spark DF interfaces to create a solution file, the lines of which contain **the 30 most frequent user routes** on the site.\n",
    "\n",
    "Each line of the file should contain the `route` and `count` values **separated by tabs**, where:\n",
    "* `route` - route on the site, consisting of pages separated by \"-\".\n",
    "* `count` - the number of user sessions in which this route was.\n",
    "\n",
    "The lines must be **ordered in descending order** of the `count` field.\n",
    "\n",
    "## Criteria\n",
    "You can get maximum of 3.5 points (final grade) for this assignment, depedning on the number of interface you manage to leverage. The criteria are as follows:\n",
    "\n",
    "* 0.5 points – Spark SQL solution with 1 query\n",
    "* 0.5 points – Spark SQL solution with <=2 queries\n",
    "* 0.5 points – Spark RDD solution\n",
    "* 0.5 points – Spark DF solution\n",
    "* 0.5 points – your solution algorithm is relatively optimized, i.e.: no O^2 or O^3 complexities; appropriate object usage; no data leaks etc. This is evaluated by staff.\n",
    "* 1 point – 1 on 1 screening session. During this session staff member can ask you questions regarding your solution logic, framework usage, questionable parts of your code etc. If your code is clean enough, the staff member can just ask you to solve a theoretical problem connected to Spark.\n"
   ]
  },
  {
   "cell_type": "markdown",
   "metadata": {},
   "source": [
    "## Upload data to Hadoop"
   ]
  },
  {
   "cell_type": "code",
   "execution_count": 1,
   "metadata": {
    "tags": []
   },
   "outputs": [
    {
     "name": "stdout",
     "output_type": "stream",
     "text": [
      "user_id\tsession_id\tevent_type\tevent_page\ttimestamp\n",
      "562\t507\tpage\tmain\t1695584127\n",
      "562\t507\tevent\tmain\t1695584134\n",
      "562\t507\tevent\tmain\t1695584144\n",
      "562\t507\tevent\tmain\t1695584147\n",
      "562\t507\twNaxLlerrorU\tmain\t1695584154\n",
      "562\t507\tevent\tmain\t1695584154\n",
      "562\t507\tevent\tmain\t1695584154\n",
      "562\t507\tevent\tmain\t1695584160\n",
      "562\t507\tpage\trabota\t1695584166\n"
     ]
    }
   ],
   "source": [
    "! head /home/jovyan/work/clickstream.csv"
   ]
  },
  {
   "cell_type": "code",
   "execution_count": 18,
   "metadata": {
    "tags": []
   },
   "outputs": [
    {
     "name": "stdout",
     "output_type": "stream",
     "text": [
      "Found 3 items\n",
      "-rw-r--r--   1 jovyan supergroup   32241574 2024-10-22 14:27 /clickstream.csv\n",
      "drwxr-xr-x   - root   supergroup          0 2023-09-24 20:38 /data\n",
      "drwxrwx---   - root   supergroup          0 2024-10-22 14:19 /tmp\n"
     ]
    }
   ],
   "source": [
    "! hadoop fs -copyFromLocal /home/jovyan/work/clickstream.csv /clickstream.csv\n",
    "\n",
    "! hadoop fs -ls /"
   ]
  },
  {
   "cell_type": "markdown",
   "metadata": {
    "tags": []
   },
   "source": [
    "## Initialize Spark"
   ]
  },
  {
   "cell_type": "code",
   "execution_count": 2,
   "metadata": {
    "tags": []
   },
   "outputs": [
    {
     "name": "stderr",
     "output_type": "stream",
     "text": [
      "Setting default log level to \"WARN\".\n",
      "To adjust logging level use sc.setLogLevel(newLevel). For SparkR, use setLogLevel(newLevel).\n",
      "2024-10-23 11:21:16,437 WARN yarn.Client: Neither spark.yarn.jars nor spark.yarn.archive is set, falling back to uploading libraries under SPARK_HOME.\n"
     ]
    }
   ],
   "source": [
    "import findspark\n",
    "findspark.init()\n",
    "\n",
    "import pyspark\n",
    "sc = pyspark.SparkContext(appName='sga_task')\n",
    "\n",
    "from pyspark.sql import SparkSession, Row\n",
    "se = SparkSession(sc)"
   ]
  },
  {
   "cell_type": "markdown",
   "metadata": {
    "tags": []
   },
   "source": [
    "## Load Data"
   ]
  },
  {
   "cell_type": "code",
   "execution_count": 3,
   "metadata": {
    "tags": []
   },
   "outputs": [],
   "source": [
    "clickstream = se.read.csv(\"hdfs:///clickstream.csv\", header=True, sep='\\t',\n",
    "                      schema='user_id bigint, session_id bigint, event_type string, event_page string, timestamp bigint')\n",
    "clickstream.registerTempTable(\"clickstream\")"
   ]
  },
  {
   "cell_type": "code",
   "execution_count": 156,
   "metadata": {
    "tags": []
   },
   "outputs": [
    {
     "name": "stdout",
     "output_type": "stream",
     "text": [
      "+-------+----------+------------+----------+----------+\n",
      "|user_id|session_id|  event_type|event_page| timestamp|\n",
      "+-------+----------+------------+----------+----------+\n",
      "|    562|       507|        page|      main|1695584127|\n",
      "|    562|       507|       event|      main|1695584134|\n",
      "|    562|       507|       event|      main|1695584144|\n",
      "|    562|       507|       event|      main|1695584147|\n",
      "|    562|       507|wNaxLlerrorU|      main|1695584154|\n",
      "|    562|       507|       event|      main|1695584154|\n",
      "|    562|       507|       event|      main|1695584154|\n",
      "|    562|       507|       event|      main|1695584160|\n",
      "|    562|       507|        page|    rabota|1695584166|\n",
      "|    562|       507|       event|    rabota|1695584174|\n",
      "+-------+----------+------------+----------+----------+\n",
      "only showing top 10 rows\n",
      "\n"
     ]
    }
   ],
   "source": [
    "clickstream.show(10)"
   ]
  },
  {
   "cell_type": "code",
   "execution_count": 155,
   "metadata": {
    "tags": []
   },
   "outputs": [
    {
     "data": {
      "text/plain": [
       "1000000"
      ]
     },
     "execution_count": 155,
     "metadata": {},
     "output_type": "execute_result"
    }
   ],
   "source": [
    "clickstream.count()"
   ]
  },
  {
   "cell_type": "markdown",
   "metadata": {
    "tags": []
   },
   "source": [
    "## Spark RDD Solution"
   ]
  },
  {
   "cell_type": "code",
   "execution_count": 136,
   "metadata": {
    "tags": []
   },
   "outputs": [
    {
     "name": "stdout",
     "output_type": "stream",
     "text": [
      "root\n",
      " |-- user_id: long (nullable = true)\n",
      " |-- session_id: long (nullable = true)\n",
      " |-- event_type: string (nullable = true)\n",
      " |-- event_page: string (nullable = true)\n",
      " |-- timestamp: long (nullable = true)\n",
      "\n"
     ]
    }
   ],
   "source": [
    "clickstream.printSchema()"
   ]
  },
  {
   "cell_type": "code",
   "execution_count": 157,
   "metadata": {
    "tags": []
   },
   "outputs": [],
   "source": [
    "# Extract user path from user session\n",
    "def session_path(events):\n",
    "    pages = []\n",
    "    events.sort(key=lambda x: x.timestamp)\n",
    "    error_timestamp = None\n",
    "    prev_page = None\n",
    "    for i in events:\n",
    "        if 'error' in i.event_type:\n",
    "            error_timestamp = i.timestamp\n",
    "            break # break to save perfomance\n",
    "        if prev_page is None or i.event_page != prev_page.event_page:\n",
    "            pages.append(i)\n",
    "        prev_page = i\n",
    "    #Filter pages by error ts\n",
    "    if error_timestamp:\n",
    "        pages = [page for page in pages if page.timestamp < error_timestamp]\n",
    "    return '-'.join([page.event_page for page in pages])\n",
    "        \n",
    "\n",
    "sessions_rdd = (\n",
    "    clickstream.rdd\n",
    "    .map(lambda x: ((x.user_id,x.session_id), x)) #map user+session\n",
    "    .groupByKey(numPartitions=50) # Group User session Data\n",
    "    .map(lambda x: (x[0],session_path(x[1].data))) # build user session path\n",
    ")\n",
    "\n",
    "paths_rdd = (\n",
    "    sessions_rdd\n",
    "    .filter(lambda x: x[1])\n",
    "    .map(lambda x: (x[1],1))\n",
    "    .reduceByKey(lambda a, b: a + b)\n",
    ")"
   ]
  },
  {
   "cell_type": "code",
   "execution_count": 163,
   "metadata": {
    "tags": []
   },
   "outputs": [
    {
     "name": "stderr",
     "output_type": "stream",
     "text": [
      "[Stage 569:=================================================>     (29 + 3) / 32]\r"
     ]
    },
    {
     "name": "stdout",
     "output_type": "stream",
     "text": [
      "+-------------------+-----+\n",
      "|              route|count|\n",
      "+-------------------+-----+\n",
      "|               main| 8184|\n",
      "|       main-archive| 1113|\n",
      "|        main-rabota| 1047|\n",
      "|      main-internet|  897|\n",
      "|         main-bonus|  870|\n",
      "|          main-news|  769|\n",
      "|       main-tariffs|  677|\n",
      "|        main-online|  587|\n",
      "|         main-vklad|  518|\n",
      "|main-rabota-archive|  170|\n",
      "+-------------------+-----+\n",
      "\n"
     ]
    },
    {
     "name": "stderr",
     "output_type": "stream",
     "text": [
      "                                                                                \r"
     ]
    }
   ],
   "source": [
    "paths_rdd.sortBy(lambda x: x[1], False).toDF(['route','count']).limit(10).show()"
   ]
  },
  {
   "cell_type": "code",
   "execution_count": 162,
   "metadata": {
    "tags": []
   },
   "outputs": [
    {
     "name": "stderr",
     "output_type": "stream",
     "text": [
      "                                                                                \r"
     ]
    },
    {
     "data": {
      "text/plain": [
       "{'main': 8184,\n",
       " 'main-archive': 1113,\n",
       " 'main-rabota': 1047,\n",
       " 'main-internet': 897,\n",
       " 'main-bonus': 870,\n",
       " 'main-news': 769,\n",
       " 'main-tariffs': 677,\n",
       " 'main-online': 587,\n",
       " 'main-vklad': 518,\n",
       " 'main-rabota-archive': 170}"
      ]
     },
     "execution_count": 162,
     "metadata": {},
     "output_type": "execute_result"
    }
   ],
   "source": [
    "rdd_answer = {path: count for (path,count) in paths_rdd.top(10, key=lambda x: x[1])}                 \n",
    "rdd_answer"
   ]
  },
  {
   "cell_type": "markdown",
   "metadata": {},
   "source": [
    "## Spark DF solution"
   ]
  },
  {
   "cell_type": "code",
   "execution_count": 125,
   "metadata": {
    "tags": []
   },
   "outputs": [],
   "source": [
    "from pyspark.sql import Window\n",
    "import pyspark.sql.functions as F"
   ]
  },
  {
   "cell_type": "code",
   "execution_count": 126,
   "metadata": {
    "tags": []
   },
   "outputs": [
    {
     "name": "stderr",
     "output_type": "stream",
     "text": [
      "[Stage 417:==================================================>     (9 + 1) / 10]\r"
     ]
    },
    {
     "name": "stdout",
     "output_type": "stream",
     "text": [
      "+-------------------+-----+\n",
      "|              route|count|\n",
      "+-------------------+-----+\n",
      "|               main| 8184|\n",
      "|       main-archive| 1112|\n",
      "|        main-rabota| 1047|\n",
      "|      main-internet|  897|\n",
      "|         main-bonus|  870|\n",
      "|          main-news|  769|\n",
      "|       main-tariffs|  676|\n",
      "|        main-online|  587|\n",
      "|         main-vklad|  518|\n",
      "|main-rabota-archive|  170|\n",
      "+-------------------+-----+\n",
      "\n"
     ]
    },
    {
     "name": "stderr",
     "output_type": "stream",
     "text": [
      "                                                                                \r"
     ]
    }
   ],
   "source": [
    "## Window specs \n",
    "window_spec = Window.partitionBy(\"user_id\", \"session_id\").orderBy(\"timestamp\")\n",
    "\n",
    "# Add earliest error TS\n",
    "df_with_error_ts = clickstream.withColumn(\"error_ts\", F.min(F.when(F.col(\"event_type\").contains('error'), F.col(\"timestamp\"))).over(window_spec))\n",
    "\n",
    "# Add previous page lag\n",
    "df_with_prev_page = df_with_error_ts.withColumn(\"prev_page\",F.lag(\"event_page\",1).over(window_spec))\n",
    "\n",
    "# Filter only page changes\n",
    "df_page_changed = df_with_prev_page.where((F.col('event_page') != F.col('prev_page')) | (F.col('prev_page').isNull()))\n",
    "\n",
    "# Filter by session errors\n",
    "df_filtered = df_page_changed.where((F.col('error_ts') > F.col('timestamp')) | (F.col('error_ts').isNull()))\n",
    "\n",
    "# Build session route\n",
    "df_session_routes = df_filtered.groupBy(\"user_id\",\"session_id\").agg(\n",
    "    F.concat_ws(\"-\", F.collect_list(\"event_page\")).alias(\"route\")\n",
    ")\n",
    "\n",
    "# Session Counts\n",
    "df_answer = df_session_routes.groupBy('route').count().sort(F.desc('count')).limit(10)\n",
    "\n",
    "df_answer.show()"
   ]
  },
  {
   "cell_type": "markdown",
   "metadata": {
    "tags": []
   },
   "source": [
    "## Spark SQl solution"
   ]
  },
  {
   "cell_type": "code",
   "execution_count": 154,
   "metadata": {
    "tags": []
   },
   "outputs": [
    {
     "name": "stderr",
     "output_type": "stream",
     "text": [
      "[Stage 498:==================================================>     (9 + 1) / 10]\r"
     ]
    },
    {
     "name": "stdout",
     "output_type": "stream",
     "text": [
      "+-------------------+-----+\n",
      "|              route|count|\n",
      "+-------------------+-----+\n",
      "|               main| 8184|\n",
      "|       main-archive| 1112|\n",
      "|        main-rabota| 1047|\n",
      "|      main-internet|  897|\n",
      "|         main-bonus|  870|\n",
      "|          main-news|  769|\n",
      "|       main-tariffs|  676|\n",
      "|        main-online|  587|\n",
      "|         main-vklad|  518|\n",
      "|main-rabota-archive|  170|\n",
      "+-------------------+-----+\n",
      "\n"
     ]
    },
    {
     "name": "stderr",
     "output_type": "stream",
     "text": [
      "                                                                                \r"
     ]
    }
   ],
   "source": [
    "sql_query = \"\"\"\n",
    "WITH with_error_ts AS (\n",
    "  SELECT\n",
    "    *,\n",
    "    MIN(CASE WHEN event_type LIKE '%error%' THEN timestamp END) OVER (PARTITION BY user_id, session_id ORDER BY timestamp) AS error_ts\n",
    "  FROM clickstream\n",
    "),\n",
    "clickstream_with_prev_page AS (\n",
    "  SELECT \n",
    "    *,\n",
    "    LAG(event_page) OVER (PARTITION BY user_id, session_id ORDER BY timestamp) as prev_page\n",
    "  FROM with_error_ts\n",
    "),\n",
    "clickstream_filtered AS (\n",
    "  SELECT \n",
    "    *\n",
    "  FROM clickstream_with_prev_page\n",
    "  WHERE (timestamp < error_ts OR error_ts IS NULL) AND (prev_page IS NULL OR event_page != prev_page)\n",
    "),\n",
    "session_routes AS (\n",
    "  SELECT \n",
    "    user_id,\n",
    "    session_id,\n",
    "    concat_ws('-', collect_list(event_page)) AS route\n",
    "  FROM clickstream_filtered\n",
    "  GROUP BY user_id,session_id\n",
    "),\n",
    "session_counts AS (\n",
    "  SELECT\n",
    "    route,\n",
    "    COUNT(*) AS count\n",
    "  FROM session_routes\n",
    "  GROUP BY route\n",
    ")\n",
    "SELECT * FROM session_counts ORDER BY count DESC LIMIT 10\n",
    "\"\"\"\n",
    "sql_answer = se.sql(sql_query)\n",
    "sql_answer.show()"
   ]
  }
 ],
 "metadata": {
  "coursera": {
   "schema_names": [
    "week-4-spark-homework"
   ]
  },
  "kernelspec": {
   "display_name": "Python 3 (ipykernel)",
   "language": "python",
   "name": "python3"
  },
  "language_info": {
   "codemirror_mode": {
    "name": "ipython",
    "version": 3
   },
   "file_extension": ".py",
   "mimetype": "text/x-python",
   "name": "python",
   "nbconvert_exporter": "python",
   "pygments_lexer": "ipython3",
   "version": "3.12.5"
  },
  "vscode": {
   "interpreter": {
    "hash": "31f2aee4e71d21fbe5cf8b01ff0e069b9275f58929596ceb00d14d90e3e16cd6"
   }
  }
 },
 "nbformat": 4,
 "nbformat_minor": 4
}
